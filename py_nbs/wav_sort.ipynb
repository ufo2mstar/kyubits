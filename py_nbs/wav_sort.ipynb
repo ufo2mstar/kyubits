{
 "cells": [
  {
   "cell_type": "code",
   "execution_count": 35,
   "id": "initial_id",
   "metadata": {
    "collapsed": true,
    "ExecuteTime": {
     "end_time": "2023-10-05T04:18:13.083668800Z",
     "start_time": "2023-10-05T04:18:13.068226900Z"
    }
   },
   "outputs": [],
   "source": [
    "# import wave\n",
    "# \n",
    "# file_path = 'D:\\s22+ 3\\\\rec\\\\20230425-1001_Recording 3991.wav'\n",
    "# # Open the .wav file\n",
    "# with wave.open(file_path, \"rb\") as f:\n",
    "# \n",
    "#     # Get the date info\n",
    "#     date_info = f.readframes(4)\n",
    "#     print(date_info)\n",
    "# \n",
    "#     # Decode the date info\n",
    "#     date_info = wave.paInt16.fromstring(date_info)\n",
    "# \n",
    "#     # Print the date info\n",
    "#     print(date_info)\n"
   ]
  },
  {
   "cell_type": "code",
   "execution_count": 36,
   "outputs": [],
   "source": [
    "# pip install tinytag"
   ],
   "metadata": {
    "collapsed": false,
    "ExecuteTime": {
     "end_time": "2023-10-05T04:18:13.104837600Z",
     "start_time": "2023-10-05T04:18:13.073807500Z"
    }
   },
   "id": "6c04dc3e0858a0b9"
  },
  {
   "cell_type": "code",
   "execution_count": 37,
   "outputs": [],
   "source": [
    "# file data\n",
    "\n",
    "import shutil\n",
    "import os\n",
    "from datetime import datetime\n",
    "\n",
    "def move_wav_file_by_filedata(src_path, dest_path):\n",
    "    # Check if the source file exists\n",
    "    if not os.path.isfile(src_path):\n",
    "        print(f\"Source file {src_path} does not exist.\")\n",
    "        return\n",
    "\n",
    "    # Get the current date\n",
    "    # # now = datetime.now()\n",
    "    # date = \n",
    "    # now = datetime.strptime(date, '%Y-%m-%d')\n",
    "    # year = now.strftime(\"%Y\")\n",
    "    # month = now.strftime(\"%m\")\n",
    "    # day = now.strftime(\"%d\")\n",
    "\n",
    "    # Get the filename without the directory\n",
    "    file_name = os.path.basename(src_path)\n",
    "\n",
    "    # Parse the date from the filename\n",
    "    year = file_name[0:4]\n",
    "    month = file_name[4:6]\n",
    "    day = file_name[6:8]\n",
    "\n",
    "    # Create the destination directory if it does not exist\n",
    "    new_dest_path = os.path.join(dest_path, f\"{year}-{month}\")\n",
    "    print(f\"move to {new_dest_path}/{file_name}\")\n",
    "    os.makedirs(new_dest_path, exist_ok=True)\n",
    "\n",
    "    # Move the file\n",
    "    # shutil.move(src_path, new_dest_path)\n",
    "\n",
    "# # Test the function\n",
    "# src_path = \"/path/to/your/file.wav\"\n",
    "# dest_path = \"/path/to/destination/folder\"\n",
    "# move_wav_file(src_path, dest_path)"
   ],
   "metadata": {
    "collapsed": false,
    "ExecuteTime": {
     "end_time": "2023-10-05T04:18:13.175118500Z",
     "start_time": "2023-10-05T04:18:13.079668800Z"
    }
   },
   "id": "fae9053ee8b9d2ca"
  },
  {
   "cell_type": "markdown",
   "source": [
    "# id3 data\n",
    "\n",
    "import shutil\n",
    "import os\n",
    "from tinytag import TinyTag\n",
    "from datetime import datetime\n",
    "\n",
    "def move_wav_file_by_id3data(src_path, dest_path):\n",
    "    # Check if the source file exists\n",
    "    if not os.path.isfile(src_path):\n",
    "        print(f\"Source file {src_path} does not exist.\")\n",
    "        return\n",
    "\n",
    "    # Get the timestamp from the ID3 tag\n",
    "    tag = TinyTag.get(src_path)\n",
    "    print(tag)\n",
    "    dt_obj = datetime.strptime(tag.year, '%Y-%m-%d')\n",
    "    year = dt_obj.strftime(\"%Y\")\n",
    "    month = dt_obj.strftime(\"%m\")\n",
    "    day = dt_obj.strftime(\"%d\")\n",
    "\n",
    "    # Create the destination directory if it does not exist\n",
    "    new_dest_path = os.path.join(dest_path, year, month, day)\n",
    "    print(f\"Destination directory {new_dest_path}\")\n",
    "    # os.makedirs(new_dest_path, exist_ok=True)\n",
    "    # \n",
    "    # # Move the file\n",
    "    # shutil.move(src_path, new_dest_path)\n",
    "\n",
    "# # Test the function\n",
    "# src_path = \"/path/to/your/file.wav\"\n",
    "# dest_path = \"/path/to/destination/folder\"\n",
    "# move_wav_file(src_path, dest_path)"
   ],
   "metadata": {
    "collapsed": false
   },
   "id": "87a4898a40721174"
  },
  {
   "cell_type": "code",
   "execution_count": 38,
   "outputs": [],
   "source": [
    "import glob\n",
    "\n",
    "\n",
    "def move_wav_file(src_path, dest_path):\n",
    "    # Glob through all .wav files in recursive subdirs\n",
    "    for src_file in glob.glob(os.path.join(src_path, '**/*.wav'), recursive=True):\n",
    "        # print(src_file)\n",
    "        move_wav_file_by_filedata(src_file, dest_path)"
   ],
   "metadata": {
    "collapsed": false,
    "ExecuteTime": {
     "end_time": "2023-10-05T04:18:13.176119700Z",
     "start_time": "2023-10-05T04:18:13.093069500Z"
    }
   },
   "id": "c5259ef0185aee61"
  },
  {
   "cell_type": "code",
   "execution_count": 39,
   "outputs": [
    {
     "name": "stdout",
     "output_type": "stream",
     "text": [
      "move to .\\2023-04/20230425-1001_Recording 3991.wav\n"
     ]
    }
   ],
   "source": [
    "file_path = \"D:\\s22+ 3\\\\rec\\\\20230425-1001_Recording 3991.wav\"\n",
    "dest_path = '.'\n",
    "\n",
    "move_wav_file_by_filedata(file_path, dest_path)\n",
    "# move_wav_file_by_id3data(file_path, dest_path)"
   ],
   "metadata": {
    "collapsed": false,
    "ExecuteTime": {
     "end_time": "2023-10-05T04:18:13.177119900Z",
     "start_time": "2023-10-05T04:18:13.099954800Z"
    }
   },
   "id": "9589a05cc1d0ebbe"
  },
  {
   "cell_type": "code",
   "execution_count": 40,
   "outputs": [
    {
     "name": "stdout",
     "output_type": "stream",
     "text": [
      "move to .\\2022-08/20220807-0018_Recording_2854.wav\n",
      "move to .\\2022-08/20220807-0927_Recording_2855.wav\n",
      "move to .\\2022-08/20220807-1507_Recording_2856.wav\n",
      "move to .\\2022-08/20220807-1859_Recording_2857.wav\n",
      "move to .\\2022-08/20220807-2114_Recording_2858.wav\n",
      "move to .\\2022-08/20220808-0026_Recording_2859.wav\n",
      "move to .\\2022-08/20220808-1100_Recording_2860.wav\n",
      "move to .\\2022-08/20220808-1159_Recording_2861.wav\n",
      "move to .\\2022-08/20220808-1247_Recording_2862.wav\n",
      "move to .\\2022-08/20220808-1351_Recording_2863.wav\n",
      "move to .\\2022-08/20220808-1529_Recording_2864.wav\n",
      "move to .\\2022-08/20220808-1757_Recording_2865.wav\n",
      "move to .\\2022-08/20220811-1345_Recording_2884.wav\n"
     ]
    }
   ],
   "source": [
    "# file_path = \"D:\\s22+ 3\\\\rec\"\n",
    "file_path = 'D:\\\\unsorted9\\SmartMob'\n",
    "dest_path = 'D:\\sorted\\sorted-auds'\n",
    "\n",
    "move_wav_file(file_path, dest_path)\n",
    "# move_wav_file_by_id3data(file_path, dest_path)"
   ],
   "metadata": {
    "collapsed": false,
    "ExecuteTime": {
     "end_time": "2023-10-05T04:18:13.178121300Z",
     "start_time": "2023-10-05T04:18:13.104837600Z"
    }
   },
   "id": "5e7a56167f7fa852"
  },
  {
   "cell_type": "code",
   "execution_count": 40,
   "outputs": [],
   "source": [],
   "metadata": {
    "collapsed": false,
    "ExecuteTime": {
     "end_time": "2023-10-05T04:18:13.178121300Z",
     "start_time": "2023-10-05T04:18:13.123334300Z"
    }
   },
   "id": "8ae45ff21e7ef02f"
  }
 ],
 "metadata": {
  "kernelspec": {
   "display_name": "Python 3",
   "language": "python",
   "name": "python3"
  },
  "language_info": {
   "codemirror_mode": {
    "name": "ipython",
    "version": 2
   },
   "file_extension": ".py",
   "mimetype": "text/x-python",
   "name": "python",
   "nbconvert_exporter": "python",
   "pygments_lexer": "ipython2",
   "version": "2.7.6"
  }
 },
 "nbformat": 4,
 "nbformat_minor": 5
}
